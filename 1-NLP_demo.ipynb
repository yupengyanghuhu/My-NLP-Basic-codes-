{
 "cells": [
  {
   "cell_type": "markdown",
   "metadata": {},
   "source": [
    "# Natural Language Processing Demo\n",
    "\n",
    "Yupeng Yang\n",
    "\n",
    "Jan 24, 2019"
   ]
  },
  {
   "cell_type": "code",
   "execution_count": 1,
   "metadata": {},
   "outputs": [],
   "source": [
    "from collections import Counter\n",
    "import numpy as np"
   ]
  },
  {
   "cell_type": "markdown",
   "metadata": {},
   "source": [
    "## Compile Documents"
   ]
  },
  {
   "cell_type": "code",
   "execution_count": 2,
   "metadata": {},
   "outputs": [],
   "source": [
    "doc1 = 'Wise people think they are foolish'\n",
    "doc2 = 'Foolish foolish people think they are wise wise'\n",
    "doc3 = 'I am definitely wise so this irritates me'\n",
    "doc4 = 'Trump is for sure like definitely foolish'"
   ]
  },
  {
   "cell_type": "markdown",
   "metadata": {},
   "source": [
    "## Create Corpus"
   ]
  },
  {
   "cell_type": "code",
   "execution_count": 4,
   "metadata": {},
   "outputs": [
    {
     "data": {
      "text/plain": [
       "['Wise people think they are foolish',\n",
       " 'Foolish foolish people think they are wise wise',\n",
       " 'I am definitely wise so this irritates me',\n",
       " 'Trump is for sure like definitely foolish']"
      ]
     },
     "execution_count": 4,
     "metadata": {},
     "output_type": "execute_result"
    }
   ],
   "source": [
    "documents = [doc1, doc2, doc3, doc4]\n",
    "documents"
   ]
  },
  {
   "cell_type": "markdown",
   "metadata": {},
   "source": [
    "## Tokenize and Lower case"
   ]
  },
  {
   "cell_type": "code",
   "execution_count": 14,
   "metadata": {},
   "outputs": [],
   "source": [
    "from nltk.tokenize import word_tokenize"
   ]
  },
  {
   "cell_type": "code",
   "execution_count": 15,
   "metadata": {},
   "outputs": [],
   "source": [
    "# import nltk\n",
    "# nltk.download()"
   ]
  },
  {
   "cell_type": "code",
   "execution_count": 117,
   "metadata": {},
   "outputs": [
    {
     "data": {
      "text/plain": [
       "[['trump',\n",
       "  'is',\n",
       "  'for',\n",
       "  'sure',\n",
       "  'sure',\n",
       "  'like',\n",
       "  'children',\n",
       "  'definitely',\n",
       "  'foolish']]"
      ]
     },
     "execution_count": 117,
     "metadata": {},
     "output_type": "execute_result"
    }
   ],
   "source": [
    "#TRY\n",
    "v= 'Trump is for sure sure like children Definitely foolish'\n",
    "[word_tokenize(v.lower())]"
   ]
  },
  {
   "cell_type": "code",
   "execution_count": 16,
   "metadata": {},
   "outputs": [],
   "source": [
    "tokenized = [word_tokenize(doc.lower()) for doc in documents]"
   ]
  },
  {
   "cell_type": "code",
   "execution_count": 17,
   "metadata": {},
   "outputs": [
    {
     "data": {
      "text/plain": [
       "[['wise', 'people', 'think', 'they', 'are', 'foolish'],\n",
       " ['foolish', 'foolish', 'people', 'think', 'they', 'are', 'wise', 'wise'],\n",
       " ['i', 'am', 'definitely', 'wise', 'so', 'this', 'irritates', 'me'],\n",
       " ['trump', 'is', 'for', 'sure', 'like', 'definitely', 'foolish']]"
      ]
     },
     "execution_count": 17,
     "metadata": {},
     "output_type": "execute_result"
    }
   ],
   "source": [
    "tokenized"
   ]
  },
  {
   "cell_type": "markdown",
   "metadata": {},
   "source": [
    "## Remove Stop Words"
   ]
  },
  {
   "cell_type": "code",
   "execution_count": 27,
   "metadata": {},
   "outputs": [],
   "source": [
    "# import nltk\n",
    "# nltk.download('stopwords')"
   ]
  },
  {
   "cell_type": "code",
   "execution_count": 39,
   "metadata": {},
   "outputs": [
    {
     "data": {
      "text/plain": [
       "{' ',\n",
       " 'D',\n",
       " 'T',\n",
       " 'e',\n",
       " 'f',\n",
       " 'h',\n",
       " 'i',\n",
       " 'k',\n",
       " 'l',\n",
       " 'm',\n",
       " 'n',\n",
       " 'o',\n",
       " 'p',\n",
       " 'r',\n",
       " 's',\n",
       " 't',\n",
       " 'u',\n",
       " 'y'}"
      ]
     },
     "execution_count": 39,
     "metadata": {},
     "output_type": "execute_result"
    }
   ],
   "source": [
    "set(v)"
   ]
  },
  {
   "cell_type": "code",
   "execution_count": 32,
   "metadata": {},
   "outputs": [
    {
     "data": {
      "text/plain": [
       "['i',\n",
       " 'me',\n",
       " 'my',\n",
       " 'myself',\n",
       " 'we',\n",
       " 'our',\n",
       " 'ours',\n",
       " 'ourselves',\n",
       " 'you',\n",
       " \"you're\",\n",
       " \"you've\",\n",
       " \"you'll\",\n",
       " \"you'd\",\n",
       " 'your',\n",
       " 'yours',\n",
       " 'yourself',\n",
       " 'yourselves',\n",
       " 'he',\n",
       " 'him',\n",
       " 'his',\n",
       " 'himself',\n",
       " 'she',\n",
       " \"she's\",\n",
       " 'her',\n",
       " 'hers',\n",
       " 'herself',\n",
       " 'it',\n",
       " \"it's\",\n",
       " 'its',\n",
       " 'itself',\n",
       " 'they',\n",
       " 'them',\n",
       " 'their',\n",
       " 'theirs',\n",
       " 'themselves',\n",
       " 'what',\n",
       " 'which',\n",
       " 'who',\n",
       " 'whom',\n",
       " 'this',\n",
       " 'that',\n",
       " \"that'll\",\n",
       " 'these',\n",
       " 'those',\n",
       " 'am',\n",
       " 'is',\n",
       " 'are',\n",
       " 'was',\n",
       " 'were',\n",
       " 'be',\n",
       " 'been',\n",
       " 'being',\n",
       " 'have',\n",
       " 'has',\n",
       " 'had',\n",
       " 'having',\n",
       " 'do',\n",
       " 'does',\n",
       " 'did',\n",
       " 'doing',\n",
       " 'a',\n",
       " 'an',\n",
       " 'the',\n",
       " 'and',\n",
       " 'but',\n",
       " 'if',\n",
       " 'or',\n",
       " 'because',\n",
       " 'as',\n",
       " 'until',\n",
       " 'while',\n",
       " 'of',\n",
       " 'at',\n",
       " 'by',\n",
       " 'for',\n",
       " 'with',\n",
       " 'about',\n",
       " 'against',\n",
       " 'between',\n",
       " 'into',\n",
       " 'through',\n",
       " 'during',\n",
       " 'before',\n",
       " 'after',\n",
       " 'above',\n",
       " 'below',\n",
       " 'to',\n",
       " 'from',\n",
       " 'up',\n",
       " 'down',\n",
       " 'in',\n",
       " 'out',\n",
       " 'on',\n",
       " 'off',\n",
       " 'over',\n",
       " 'under',\n",
       " 'again',\n",
       " 'further',\n",
       " 'then',\n",
       " 'once',\n",
       " 'here',\n",
       " 'there',\n",
       " 'when',\n",
       " 'where',\n",
       " 'why',\n",
       " 'how',\n",
       " 'all',\n",
       " 'any',\n",
       " 'both',\n",
       " 'each',\n",
       " 'few',\n",
       " 'more',\n",
       " 'most',\n",
       " 'other',\n",
       " 'some',\n",
       " 'such',\n",
       " 'no',\n",
       " 'nor',\n",
       " 'not',\n",
       " 'only',\n",
       " 'own',\n",
       " 'same',\n",
       " 'so',\n",
       " 'than',\n",
       " 'too',\n",
       " 'very',\n",
       " 's',\n",
       " 't',\n",
       " 'can',\n",
       " 'will',\n",
       " 'just',\n",
       " 'don',\n",
       " \"don't\",\n",
       " 'should',\n",
       " \"should've\",\n",
       " 'now',\n",
       " 'd',\n",
       " 'll',\n",
       " 'm',\n",
       " 'o',\n",
       " 're',\n",
       " 've',\n",
       " 'y',\n",
       " 'ain',\n",
       " 'aren',\n",
       " \"aren't\",\n",
       " 'couldn',\n",
       " \"couldn't\",\n",
       " 'didn',\n",
       " \"didn't\",\n",
       " 'doesn',\n",
       " \"doesn't\",\n",
       " 'hadn',\n",
       " \"hadn't\",\n",
       " 'hasn',\n",
       " \"hasn't\",\n",
       " 'haven',\n",
       " \"haven't\",\n",
       " 'isn',\n",
       " \"isn't\",\n",
       " 'ma',\n",
       " 'mightn',\n",
       " \"mightn't\",\n",
       " 'mustn',\n",
       " \"mustn't\",\n",
       " 'needn',\n",
       " \"needn't\",\n",
       " 'shan',\n",
       " \"shan't\",\n",
       " 'shouldn',\n",
       " \"shouldn't\",\n",
       " 'wasn',\n",
       " \"wasn't\",\n",
       " 'weren',\n",
       " \"weren't\",\n",
       " 'won',\n",
       " \"won't\",\n",
       " 'wouldn',\n",
       " \"wouldn't\"]"
      ]
     },
     "execution_count": 32,
     "metadata": {},
     "output_type": "execute_result"
    }
   ],
   "source": [
    "stopwords.words('english')"
   ]
  },
  {
   "cell_type": "code",
   "execution_count": 31,
   "metadata": {},
   "outputs": [
    {
     "data": {
      "text/plain": [
       "{'a',\n",
       " 'about',\n",
       " 'above',\n",
       " 'after',\n",
       " 'again',\n",
       " 'against',\n",
       " 'ain',\n",
       " 'all',\n",
       " 'am',\n",
       " 'an',\n",
       " 'and',\n",
       " 'any',\n",
       " 'are',\n",
       " 'aren',\n",
       " \"aren't\",\n",
       " 'as',\n",
       " 'at',\n",
       " 'be',\n",
       " 'because',\n",
       " 'been',\n",
       " 'before',\n",
       " 'being',\n",
       " 'below',\n",
       " 'between',\n",
       " 'both',\n",
       " 'but',\n",
       " 'by',\n",
       " 'can',\n",
       " 'couldn',\n",
       " \"couldn't\",\n",
       " 'd',\n",
       " 'did',\n",
       " 'didn',\n",
       " \"didn't\",\n",
       " 'do',\n",
       " 'does',\n",
       " 'doesn',\n",
       " \"doesn't\",\n",
       " 'doing',\n",
       " 'don',\n",
       " \"don't\",\n",
       " 'down',\n",
       " 'during',\n",
       " 'each',\n",
       " 'few',\n",
       " 'for',\n",
       " 'from',\n",
       " 'further',\n",
       " 'had',\n",
       " 'hadn',\n",
       " \"hadn't\",\n",
       " 'has',\n",
       " 'hasn',\n",
       " \"hasn't\",\n",
       " 'have',\n",
       " 'haven',\n",
       " \"haven't\",\n",
       " 'having',\n",
       " 'he',\n",
       " 'her',\n",
       " 'here',\n",
       " 'hers',\n",
       " 'herself',\n",
       " 'him',\n",
       " 'himself',\n",
       " 'his',\n",
       " 'how',\n",
       " 'i',\n",
       " 'if',\n",
       " 'in',\n",
       " 'into',\n",
       " 'is',\n",
       " 'isn',\n",
       " \"isn't\",\n",
       " 'it',\n",
       " \"it's\",\n",
       " 'its',\n",
       " 'itself',\n",
       " 'just',\n",
       " 'll',\n",
       " 'm',\n",
       " 'ma',\n",
       " 'me',\n",
       " 'mightn',\n",
       " \"mightn't\",\n",
       " 'more',\n",
       " 'most',\n",
       " 'mustn',\n",
       " \"mustn't\",\n",
       " 'my',\n",
       " 'myself',\n",
       " 'needn',\n",
       " \"needn't\",\n",
       " 'no',\n",
       " 'nor',\n",
       " 'not',\n",
       " 'now',\n",
       " 'o',\n",
       " 'of',\n",
       " 'off',\n",
       " 'on',\n",
       " 'once',\n",
       " 'only',\n",
       " 'or',\n",
       " 'other',\n",
       " 'our',\n",
       " 'ours',\n",
       " 'ourselves',\n",
       " 'out',\n",
       " 'over',\n",
       " 'own',\n",
       " 're',\n",
       " 's',\n",
       " 'same',\n",
       " 'shan',\n",
       " \"shan't\",\n",
       " 'she',\n",
       " \"she's\",\n",
       " 'should',\n",
       " \"should've\",\n",
       " 'shouldn',\n",
       " \"shouldn't\",\n",
       " 'so',\n",
       " 'some',\n",
       " 'such',\n",
       " 't',\n",
       " 'than',\n",
       " 'that',\n",
       " \"that'll\",\n",
       " 'the',\n",
       " 'their',\n",
       " 'theirs',\n",
       " 'them',\n",
       " 'themselves',\n",
       " 'then',\n",
       " 'there',\n",
       " 'these',\n",
       " 'they',\n",
       " 'this',\n",
       " 'those',\n",
       " 'through',\n",
       " 'to',\n",
       " 'too',\n",
       " 'under',\n",
       " 'until',\n",
       " 'up',\n",
       " 've',\n",
       " 'very',\n",
       " 'was',\n",
       " 'wasn',\n",
       " \"wasn't\",\n",
       " 'we',\n",
       " 'were',\n",
       " 'weren',\n",
       " \"weren't\",\n",
       " 'what',\n",
       " 'when',\n",
       " 'where',\n",
       " 'which',\n",
       " 'while',\n",
       " 'who',\n",
       " 'whom',\n",
       " 'why',\n",
       " 'will',\n",
       " 'with',\n",
       " 'won',\n",
       " \"won't\",\n",
       " 'wouldn',\n",
       " \"wouldn't\",\n",
       " 'y',\n",
       " 'you',\n",
       " \"you'd\",\n",
       " \"you'll\",\n",
       " \"you're\",\n",
       " \"you've\",\n",
       " 'your',\n",
       " 'yours',\n",
       " 'yourself',\n",
       " 'yourselves'}"
      ]
     },
     "execution_count": 31,
     "metadata": {},
     "output_type": "execute_result"
    }
   ],
   "source": [
    "from nltk.corpus import stopwords\n",
    "stop = set(stopwords.words('english'))\n",
    "stop"
   ]
  },
  {
   "cell_type": "code",
   "execution_count": null,
   "metadata": {},
   "outputs": [],
   "source": []
  },
  {
   "cell_type": "code",
   "execution_count": 46,
   "metadata": {},
   "outputs": [],
   "source": [
    "docs = [[word for word in words if word not in stop] \n",
    "        for words in tokenized]"
   ]
  },
  {
   "cell_type": "code",
   "execution_count": 47,
   "metadata": {
    "scrolled": true
   },
   "outputs": [
    {
     "data": {
      "text/plain": [
       "[['wise', 'people', 'think', 'foolish'],\n",
       " ['foolish', 'foolish', 'people', 'think', 'wise', 'wise'],\n",
       " ['definitely', 'wise', 'irritates'],\n",
       " ['trump', 'sure', 'like', 'definitely', 'foolish']]"
      ]
     },
     "execution_count": 47,
     "metadata": {},
     "output_type": "execute_result"
    }
   ],
   "source": [
    "docs"
   ]
  },
  {
   "cell_type": "markdown",
   "metadata": {},
   "source": [
    "## Stemming and Lemmatization"
   ]
  },
  {
   "cell_type": "code",
   "execution_count": 57,
   "metadata": {},
   "outputs": [],
   "source": [
    "# import nltk\n",
    "# nltk.download('wordnet')"
   ]
  },
  {
   "cell_type": "code",
   "execution_count": 53,
   "metadata": {},
   "outputs": [],
   "source": [
    "from nltk.stem.porter import PorterStemmer\n",
    "from nltk.stem.wordnet import WordNetLemmatizer\n",
    "\n",
    "porter = PorterStemmer()\n",
    "wordnet = WordNetLemmatizer()\n",
    "\n",
    "docs_stem = [[porter.stem(word) for word in words]\n",
    "               for words in docs]\n",
    "docs_lemma = [[wordnet.lemmatize(word) for word in doc]\n",
    "                for doc in docs]"
   ]
  },
  {
   "cell_type": "code",
   "execution_count": 54,
   "metadata": {},
   "outputs": [
    {
     "name": "stdout",
     "output_type": "stream",
     "text": [
      "mice\n",
      "mouse\n"
     ]
    }
   ],
   "source": [
    "print(porter.stem('mice'))\n",
    "print(wordnet.lemmatize('mice'))"
   ]
  },
  {
   "cell_type": "code",
   "execution_count": 55,
   "metadata": {},
   "outputs": [
    {
     "data": {
      "text/plain": [
       "[['wise', 'peopl', 'think', 'foolish'],\n",
       " ['foolish', 'foolish', 'peopl', 'think', 'wise', 'wise'],\n",
       " ['definit', 'wise', 'irrit'],\n",
       " ['trump', 'sure', 'like', 'definit', 'foolish']]"
      ]
     },
     "execution_count": 55,
     "metadata": {},
     "output_type": "execute_result"
    }
   ],
   "source": [
    "docs_stem"
   ]
  },
  {
   "cell_type": "code",
   "execution_count": 56,
   "metadata": {},
   "outputs": [
    {
     "data": {
      "text/plain": [
       "[['wise', 'people', 'think', 'foolish'],\n",
       " ['foolish', 'foolish', 'people', 'think', 'wise', 'wise'],\n",
       " ['definitely', 'wise', 'irritates'],\n",
       " ['trump', 'sure', 'like', 'definitely', 'foolish']]"
      ]
     },
     "execution_count": 56,
     "metadata": {},
     "output_type": "execute_result"
    }
   ],
   "source": [
    "docs_lemma"
   ]
  },
  {
   "cell_type": "markdown",
   "metadata": {},
   "source": [
    "## Vocabulary for our Corpus"
   ]
  },
  {
   "cell_type": "code",
   "execution_count": 74,
   "metadata": {},
   "outputs": [],
   "source": [
    "vocabulary = [word for doc in docs_lemma for word in doc]\n",
    "#vocabulary = sorted(list(set(word for doc in docs_lemma for word in doc)))"
   ]
  },
  {
   "cell_type": "code",
   "execution_count": 75,
   "metadata": {},
   "outputs": [
    {
     "data": {
      "text/plain": [
       "['wise',\n",
       " 'people',\n",
       " 'think',\n",
       " 'foolish',\n",
       " 'foolish',\n",
       " 'foolish',\n",
       " 'people',\n",
       " 'think',\n",
       " 'wise',\n",
       " 'wise',\n",
       " 'definitely',\n",
       " 'wise',\n",
       " 'irritates',\n",
       " 'trump',\n",
       " 'sure',\n",
       " 'like',\n",
       " 'definitely',\n",
       " 'foolish']"
      ]
     },
     "execution_count": 75,
     "metadata": {},
     "output_type": "execute_result"
    }
   ],
   "source": [
    "vocabulary"
   ]
  },
  {
   "cell_type": "code",
   "execution_count": 76,
   "metadata": {},
   "outputs": [
    {
     "data": {
      "text/plain": [
       "['definitely',\n",
       " 'foolish',\n",
       " 'irritates',\n",
       " 'like',\n",
       " 'people',\n",
       " 'sure',\n",
       " 'think',\n",
       " 'trump',\n",
       " 'wise']"
      ]
     },
     "execution_count": 76,
     "metadata": {},
     "output_type": "execute_result"
    }
   ],
   "source": [
    "vocabulary = sorted(list(set(vocabulary)))\n",
    "vocabulary"
   ]
  },
  {
   "cell_type": "code",
   "execution_count": 77,
   "metadata": {},
   "outputs": [
    {
     "name": "stdout",
     "output_type": "stream",
     "text": [
      "Vocabulary (features): ['definitely', 'foolish', 'irritates', 'like', 'people', 'sure', 'think', 'trump', 'wise']\n"
     ]
    }
   ],
   "source": [
    "print('Vocabulary (features):', vocabulary)"
   ]
  },
  {
   "cell_type": "markdown",
   "metadata": {},
   "source": [
    "## Bag of Words"
   ]
  },
  {
   "cell_type": "code",
   "execution_count": 78,
   "metadata": {},
   "outputs": [],
   "source": [
    "from collections import Counter"
   ]
  },
  {
   "cell_type": "code",
   "execution_count": 79,
   "metadata": {},
   "outputs": [],
   "source": [
    "def bow_vectorize(doc, vocabulary):\n",
    "    bag_of_words = Counter(doc) #count the number of words appeared\n",
    "    doc_vector = np.zeros(len(vocabulary)) #set 9 '0' for positions in a list\n",
    "    for word_index, word in enumerate(vocabulary): #word_index is from 0 to 8; word has 9 words\n",
    "        if word in bag_of_words:\n",
    "            doc_vector[word_index] += bag_of_words[word] #add the count number on this position.\n",
    "    return doc_vector"
   ]
  },
  {
   "cell_type": "code",
   "execution_count": 104,
   "metadata": {},
   "outputs": [
    {
     "data": {
      "text/plain": [
       "[['wise', 'people', 'think', 'foolish'],\n",
       " ['foolish', 'foolish', 'people', 'think', 'wise', 'wise'],\n",
       " ['definitely', 'wise', 'irritates'],\n",
       " ['trump', 'sure', 'like', 'definitely', 'foolish']]"
      ]
     },
     "execution_count": 104,
     "metadata": {},
     "output_type": "execute_result"
    }
   ],
   "source": [
    "docs_lemma"
   ]
  },
  {
   "cell_type": "code",
   "execution_count": 111,
   "metadata": {},
   "outputs": [
    {
     "data": {
      "text/plain": [
       "Counter({'wise': 1, 'people': 1, 'think': 1, 'foolish': 1})"
      ]
     },
     "execution_count": 111,
     "metadata": {},
     "output_type": "execute_result"
    }
   ],
   "source": [
    "Counter(docs_lemma[0])['foolish']\n",
    "Counter(docs_lemma[0])"
   ]
  },
  {
   "cell_type": "code",
   "execution_count": 105,
   "metadata": {
    "scrolled": true
   },
   "outputs": [],
   "source": [
    "bow_matrix = list()\n",
    "for doc in docs_lemma:\n",
    "    bow_matrix.append(bow_vectorize(doc, vocabulary))\n"
   ]
  },
  {
   "cell_type": "code",
   "execution_count": 108,
   "metadata": {},
   "outputs": [
    {
     "data": {
      "text/plain": [
       "[array([0., 1., 0., 0., 1., 0., 1., 0., 1.]),\n",
       " array([0., 2., 0., 0., 1., 0., 1., 0., 2.]),\n",
       " array([1., 0., 1., 0., 0., 0., 0., 0., 1.]),\n",
       " array([1., 1., 0., 1., 0., 1., 0., 1., 0.])]"
      ]
     },
     "execution_count": 108,
     "metadata": {},
     "output_type": "execute_result"
    }
   ],
   "source": [
    "bow_matrix"
   ]
  },
  {
   "cell_type": "code",
   "execution_count": 109,
   "metadata": {},
   "outputs": [
    {
     "name": "stdout",
     "output_type": "stream",
     "text": [
      "features: ['definitely', 'foolish', 'irritates', 'like', 'people', 'sure', 'think', 'trump', 'wise']\n",
      "\"['wise', 'people', 'think', 'foolish']\": \n",
      " [0. 1. 0. 0. 1. 0. 1. 0. 1.] \n",
      "\n",
      "\"['foolish', 'foolish', 'people', 'think', 'wise', 'wise']\": \n",
      " [0. 2. 0. 0. 1. 0. 1. 0. 2.] \n",
      "\n",
      "\"['definitely', 'wise', 'irritates']\": \n",
      " [1. 0. 1. 0. 0. 0. 0. 0. 1.] \n",
      "\n",
      "\"['trump', 'sure', 'like', 'definitely', 'foolish']\": \n",
      " [1. 1. 0. 1. 0. 1. 0. 1. 0.] \n",
      "\n",
      "feature matrix:\n",
      "[array([0., 1., 0., 0., 1., 0., 1., 0., 1.]), array([0., 2., 0., 0., 1., 0., 1., 0., 2.]), array([1., 0., 1., 0., 0., 0., 0., 0., 1.]), array([1., 1., 0., 1., 0., 1., 0., 1., 0.])]\n"
     ]
    }
   ],
   "source": [
    "print('features:',vocabulary)\n",
    "for i in range(len(bow_matrix)):\n",
    "    print('\"%s\":'% docs_lemma[i], '\\n', bow_matrix[i], '\\n')\n",
    "          \n",
    "        \n",
    "print('feature matrix:')\n",
    "print(bow_matrix)"
   ]
  },
  {
   "cell_type": "markdown",
   "metadata": {},
   "source": [
    "### Bag of Words with CountVectorizer"
   ]
  },
  {
   "cell_type": "code",
   "execution_count": 119,
   "metadata": {},
   "outputs": [
    {
     "data": {
      "text/plain": [
       "['trump',\n",
       " 'is',\n",
       " 'for',\n",
       " 'sure',\n",
       " 'sure',\n",
       " 'like',\n",
       " 'child',\n",
       " 'definitely',\n",
       " 'foolish']"
      ]
     },
     "execution_count": 119,
     "metadata": {},
     "output_type": "execute_result"
    }
   ],
   "source": [
    "def lemmatize(doc):\n",
    "    return [wordnet.lemmatize(word) for word in word_tokenize(doc.lower())]\n",
    "lemmatize(v) #'children' to 'child'"
   ]
  },
  {
   "cell_type": "code",
   "execution_count": 113,
   "metadata": {},
   "outputs": [],
   "source": [
    "from sklearn.feature_extraction.text import CountVectorizer\n",
    "\n",
    "count_vectorizer = CountVectorizer(stop_words=stopwords.words('english'),\n",
    "                                   vocabulary=vocabulary,\n",
    "                                   tokenizer=lemmatize)\n",
    "\n",
    "feature_matrix = count_vectorizer.fit_transform([doc1])"
   ]
  },
  {
   "cell_type": "code",
   "execution_count": 114,
   "metadata": {},
   "outputs": [
    {
     "data": {
      "text/plain": [
       "array([[0, 1, 0, 0, 1, 0, 1, 0, 1]])"
      ]
     },
     "execution_count": 114,
     "metadata": {},
     "output_type": "execute_result"
    }
   ],
   "source": [
    "feature_matrix.toarray()"
   ]
  },
  {
   "cell_type": "code",
   "execution_count": 124,
   "metadata": {},
   "outputs": [
    {
     "data": {
      "text/plain": [
       "matrix([[0, 1, 0, 0, 1, 0, 1, 0, 1],\n",
       "        [0, 2, 0, 0, 1, 0, 1, 0, 2],\n",
       "        [1, 0, 1, 0, 0, 0, 0, 0, 1],\n",
       "        [1, 1, 0, 1, 0, 1, 0, 1, 0]])"
      ]
     },
     "execution_count": 124,
     "metadata": {},
     "output_type": "execute_result"
    }
   ],
   "source": [
    "count_vectorizer.fit_transform(documents).todense()"
   ]
  },
  {
   "cell_type": "code",
   "execution_count": 120,
   "metadata": {},
   "outputs": [
    {
     "name": "stdout",
     "output_type": "stream",
     "text": [
      "Vectorize: Wise people think they are foolish\n",
      "Lemmatized: ['wise', 'people', 'think', 'foolish']\n",
      "Features: ['definitely', 'foolish', 'irritates', 'like', 'people', 'sure', 'think', 'trump', 'wise']\n",
      "\n",
      "\n",
      "sklearn result [[0 1 0 0 1 0 1 0 1]]\n",
      "our result [0. 1. 0. 0. 1. 0. 1. 0. 1.]\n",
      "\n",
      "\n",
      "feature matrix\n",
      "[[0 1 0 0 1 0 1 0 1]\n",
      " [0 2 0 0 1 0 1 0 2]\n",
      " [1 0 1 0 0 0 0 0 1]\n",
      " [1 1 0 1 0 1 0 1 0]]\n"
     ]
    }
   ],
   "source": [
    "print('Vectorize:',doc1)\n",
    "print('Lemmatized:',docs_lemma[0])\n",
    "print('Features:', vocabulary)\n",
    "print('\\n')\n",
    "print('sklearn result',feature_matrix.toarray())\n",
    "print('our result',bow_vectorize(docs_lemma[0], vocabulary))\n",
    "print('\\n')\n",
    "print('feature matrix')\n",
    "print(count_vectorizer.fit_transform(documents).todense())"
   ]
  },
  {
   "cell_type": "markdown",
   "metadata": {},
   "source": [
    "## Term Frequency (Tf)"
   ]
  },
  {
   "cell_type": "code",
   "execution_count": 125,
   "metadata": {},
   "outputs": [],
   "source": [
    "def tf_vectorize(doc, vocabulary):\n",
    "    bow_vector = bow_vectorize(doc, vocabulary)\n",
    "    tf_vector = np.zeros(len(vocabulary))\n",
    "    for idx, vec in enumerate(bow_vector):\n",
    "        tf_vector[idx] = vec / len(doc)\n",
    "    return tf_vector"
   ]
  },
  {
   "cell_type": "code",
   "execution_count": 126,
   "metadata": {},
   "outputs": [],
   "source": [
    "tf_matrix = list()\n",
    "for doc in docs_lemma:\n",
    "    tf_matrix.append(tf_vectorize(doc, vocabulary))"
   ]
  },
  {
   "cell_type": "code",
   "execution_count": 127,
   "metadata": {},
   "outputs": [
    {
     "name": "stdout",
     "output_type": "stream",
     "text": [
      "features: ['definitely', 'foolish', 'irritates', 'like', 'people', 'sure', 'think', 'trump', 'wise']\n",
      "\"['wise', 'people', 'think', 'foolish']\": \n",
      " [0.   0.25 0.   0.   0.25 0.   0.25 0.   0.25] \n",
      "\n",
      "\"['foolish', 'foolish', 'people', 'think', 'wise', 'wise']\": \n",
      " [0.         0.33333333 0.         0.         0.16666667 0.\n",
      " 0.16666667 0.         0.33333333] \n",
      "\n",
      "\"['definitely', 'wise', 'irritates']\": \n",
      " [0.33333333 0.         0.33333333 0.         0.         0.\n",
      " 0.         0.         0.33333333] \n",
      "\n",
      "\"['trump', 'sure', 'like', 'definitely', 'foolish']\": \n",
      " [0.2 0.2 0.  0.2 0.  0.2 0.  0.2 0. ] \n",
      "\n"
     ]
    }
   ],
   "source": [
    "print('features:', vocabulary)\n",
    "\n",
    "for i in range(len(tf_matrix)):\n",
    "    print('\"%s\":'%docs_lemma[i], '\\n', tf_matrix[i], '\\n')"
   ]
  },
  {
   "cell_type": "markdown",
   "metadata": {},
   "source": [
    "## Some Tf-Idf "
   ]
  },
  {
   "cell_type": "code",
   "execution_count": 128,
   "metadata": {},
   "outputs": [],
   "source": [
    "from sklearn.feature_extraction.text import TfidfVectorizer\n",
    "\n",
    "tfidf_vectorizer = TfidfVectorizer(stop_words=stopwords.words('english'),\n",
    "                                   vocabulary=vocabulary)\n",
    "tfidf_matrix = tfidf_vectorizer.fit_transform(documents).todense()"
   ]
  },
  {
   "cell_type": "code",
   "execution_count": 129,
   "metadata": {},
   "outputs": [
    {
     "data": {
      "text/plain": [
       "matrix([[0.        , 0.44493104, 0.        , 0.        , 0.54957835,\n",
       "         0.        , 0.54957835, 0.        , 0.44493104],\n",
       "        [0.        , 0.60161783, 0.        , 0.        , 0.37155886,\n",
       "         0.        , 0.37155886, 0.        , 0.60161783],\n",
       "        [0.55349232, 0.        , 0.70203482, 0.        , 0.        ,\n",
       "         0.        , 0.        , 0.        , 0.44809973],\n",
       "        [0.39278432, 0.31799276, 0.        , 0.49819711, 0.        ,\n",
       "         0.49819711, 0.        , 0.49819711, 0.        ]])"
      ]
     },
     "execution_count": 129,
     "metadata": {},
     "output_type": "execute_result"
    }
   ],
   "source": [
    "tfidf_matrix"
   ]
  },
  {
   "cell_type": "code",
   "execution_count": 130,
   "metadata": {},
   "outputs": [
    {
     "name": "stdout",
     "output_type": "stream",
     "text": [
      "features: ['definitely', 'foolish', 'irritates', 'like', 'people', 'sure', 'think', 'trump', 'wise']\n",
      "\"['wise', 'people', 'think', 'foolish']\": \n",
      " [[0.         0.44493104 0.         0.         0.54957835 0.\n",
      "  0.54957835 0.         0.44493104]] \n",
      "\n",
      "\"['foolish', 'foolish', 'people', 'think', 'wise', 'wise']\": \n",
      " [[0.         0.60161783 0.         0.         0.37155886 0.\n",
      "  0.37155886 0.         0.60161783]] \n",
      "\n",
      "\"['definitely', 'wise', 'irritates']\": \n",
      " [[0.55349232 0.         0.70203482 0.         0.         0.\n",
      "  0.         0.         0.44809973]] \n",
      "\n",
      "\"['trump', 'sure', 'like', 'definitely', 'foolish']\": \n",
      " [[0.39278432 0.31799276 0.         0.49819711 0.         0.49819711\n",
      "  0.         0.49819711 0.        ]] \n",
      "\n"
     ]
    }
   ],
   "source": [
    "print('features:',vocabulary)\n",
    "\n",
    "for i in range(len(tfidf_matrix)):\n",
    "    print('\"%s\":'%docs_lemma[i], '\\n', tfidf_matrix[i], '\\n')"
   ]
  },
  {
   "cell_type": "markdown",
   "metadata": {},
   "source": [
    "## Euclidian Distance Comparison"
   ]
  },
  {
   "cell_type": "code",
   "execution_count": 131,
   "metadata": {},
   "outputs": [],
   "source": [
    "from sklearn.metrics.pairwise import euclidean_distances"
   ]
  },
  {
   "cell_type": "code",
   "execution_count": 132,
   "metadata": {},
   "outputs": [
    {
     "data": {
      "text/plain": [
       "array([0., 1., 0., 0., 1., 0., 1., 0., 1.])"
      ]
     },
     "execution_count": 132,
     "metadata": {},
     "output_type": "execute_result"
    }
   ],
   "source": [
    "bow_matrix[0]"
   ]
  },
  {
   "cell_type": "code",
   "execution_count": 133,
   "metadata": {},
   "outputs": [
    {
     "data": {
      "text/plain": [
       "array([0., 2., 0., 0., 1., 0., 1., 0., 2.])"
      ]
     },
     "execution_count": 133,
     "metadata": {},
     "output_type": "execute_result"
    }
   ],
   "source": [
    "bow_matrix[1]"
   ]
  },
  {
   "cell_type": "code",
   "execution_count": 134,
   "metadata": {},
   "outputs": [
    {
     "name": "stdout",
     "output_type": "stream",
     "text": [
      "Compare \"Wise people think they are foolish\" \n",
      "with \"Foolish foolish people think they are wise wise\"\n",
      "[[1.41421356]]\n"
     ]
    }
   ],
   "source": [
    "print('Compare \"%s\" \\nwith \"%s\"'%(doc1, doc2))\n",
    "print(euclidean_distances(bow_matrix[0].reshape(1, -1), bow_matrix[1].reshape(1, -1)))"
   ]
  },
  {
   "cell_type": "code",
   "execution_count": 135,
   "metadata": {},
   "outputs": [
    {
     "name": "stdout",
     "output_type": "stream",
     "text": [
      "Compare \"Wise people think they are foolish\" \n",
      "with \"Foolish foolish people think they are wise wise\"\n",
      "[[0.16666667]]\n"
     ]
    }
   ],
   "source": [
    "print('Compare \"%s\" \\nwith \"%s\"'%(doc1, doc2))\n",
    "print(euclidean_distances(tf_matrix[0].reshape(1, -1), tf_matrix[1].reshape(1, -1)))"
   ]
  },
  {
   "cell_type": "code",
   "execution_count": 136,
   "metadata": {},
   "outputs": [
    {
     "name": "stdout",
     "output_type": "stream",
     "text": [
      "Compare \"Wise people think they are foolish\" \n",
      "with \"Foolish foolish people think they are wise wise\"\n",
      "[[0.33538543]]\n"
     ]
    }
   ],
   "source": [
    "print('Compare \"%s\" \\nwith \"%s\"'%(doc1, doc2))\n",
    "print(euclidean_distances(tfidf_matrix[0].reshape(1, -1), tfidf_matrix[1].reshape(1, -1)))"
   ]
  },
  {
   "cell_type": "markdown",
   "metadata": {},
   "source": [
    "## Cosine Similarity Comparison"
   ]
  },
  {
   "cell_type": "code",
   "execution_count": 137,
   "metadata": {},
   "outputs": [],
   "source": [
    "from sklearn.metrics.pairwise import cosine_similarity"
   ]
  },
  {
   "cell_type": "code",
   "execution_count": 138,
   "metadata": {},
   "outputs": [
    {
     "name": "stdout",
     "output_type": "stream",
     "text": [
      "Compare \"Wise people think they are foolish\" \n",
      "with \"Foolish foolish people think they are wise wise\"\n",
      "[[0.9486833]]\n"
     ]
    }
   ],
   "source": [
    "print('Compare \"%s\" \\nwith \"%s\"'%(doc1, doc2))\n",
    "print(cosine_similarity(bow_matrix[0].reshape(1, -1), bow_matrix[1].reshape(1, -1)))"
   ]
  },
  {
   "cell_type": "code",
   "execution_count": 139,
   "metadata": {},
   "outputs": [
    {
     "name": "stdout",
     "output_type": "stream",
     "text": [
      "Compare \"Wise people think they are foolish\" \n",
      "with \"Foolish foolish people think they are wise wise\"\n",
      "[[0.9486833]]\n"
     ]
    }
   ],
   "source": [
    "print('Compare \"%s\" \\nwith \"%s\"'%(doc1, doc2))\n",
    "print(cosine_similarity(tf_matrix[0].reshape(1, -1), tf_matrix[1].reshape(1, -1)))"
   ]
  },
  {
   "cell_type": "code",
   "execution_count": 140,
   "metadata": {},
   "outputs": [
    {
     "name": "stdout",
     "output_type": "stream",
     "text": [
      "Compare \"Wise people think they are foolish\" \n",
      "with \"Foolish foolish people think they are wise wise\"\n",
      "[[0.94375831]]\n"
     ]
    }
   ],
   "source": [
    "print('Compare \"%s\" \\nwith \"%s\"'%(doc1, doc2))\n",
    "print(cosine_similarity(tfidf_matrix[0].reshape(1, -1), tfidf_matrix[1].reshape(1, -1)))"
   ]
  },
  {
   "cell_type": "markdown",
   "metadata": {},
   "source": [
    "# Search Engine Query Example"
   ]
  },
  {
   "cell_type": "code",
   "execution_count": 141,
   "metadata": {},
   "outputs": [],
   "source": [
    "query = 'The foolish Trump'"
   ]
  },
  {
   "cell_type": "code",
   "execution_count": 142,
   "metadata": {},
   "outputs": [
    {
     "name": "stdout",
     "output_type": "stream",
     "text": [
      "Query: The foolish Trump\n",
      "Vectorized query: [[0.         0.53802897 0.         0.         0.         0.\n",
      "  0.         0.84292635 0.        ]]\n"
     ]
    }
   ],
   "source": [
    "query_vectorized = tfidf_vectorizer.transform([query]).todense()\n",
    "print(\"Query:\", query)\n",
    "print(\"Vectorized query:\", query_vectorized)"
   ]
  },
  {
   "cell_type": "code",
   "execution_count": 143,
   "metadata": {},
   "outputs": [
    {
     "name": "stdout",
     "output_type": "stream",
     "text": [
      "Wise people think they are foolish [[0.23938579]]\n",
      "Foolish foolish people think they are wise wise [[0.32368782]]\n",
      "I am definitely wise so this irritates me [[0.]]\n",
      "Trump is for sure like definitely foolish [[0.59103279]]\n"
     ]
    }
   ],
   "source": [
    "for doc, tf_doc in zip(documents, tfidf_matrix):\n",
    "    print(doc, cosine_similarity(query_vectorized.reshape(1, -1), tf_doc.reshape(1, -1)))"
   ]
  },
  {
   "cell_type": "markdown",
   "metadata": {},
   "source": [
    "## A Final Cosine Similiarity Thingy"
   ]
  },
  {
   "cell_type": "code",
   "execution_count": 144,
   "metadata": {},
   "outputs": [
    {
     "name": "stdout",
     "output_type": "stream",
     "text": [
      "\"Wise people think they are foolish\" compared with \"Foolish foolish people think they are wise wise\"\n",
      "TF cosine similarity: [[0.9486833]]\n",
      "TF-IDF cosine similarity: [[0.94375831]]\n",
      "\"Wise people think they are foolish\" compared with \"I am definitely wise so this irritates me\"\n",
      "TF cosine similarity: [[0.28867513]]\n",
      "TF-IDF cosine similarity: [[0.19937348]]\n",
      "\"Wise people think they are foolish\" compared with \"Trump is for sure like definitely foolish\"\n",
      "TF cosine similarity: [[0.2236068]]\n",
      "TF-IDF cosine similarity: [[0.14148485]]\n"
     ]
    }
   ],
   "source": [
    "for index in range(len(documents[1:])):\n",
    "    print('\"%s\" compared with \"%s\"'%(documents[0], documents[index+1]))\n",
    "    print('TF cosine similarity:', cosine_similarity(tf_matrix[0].reshape(1, -1),\n",
    "                                                     tf_matrix[index+1].reshape(1, -1)))\n",
    "    print('TF-IDF cosine similarity:', cosine_similarity(tfidf_matrix[0].reshape(1, -1),\n",
    "                                                         tfidf_matrix[index+1].reshape(1, -1)))\n",
    "    "
   ]
  },
  {
   "cell_type": "code",
   "execution_count": null,
   "metadata": {},
   "outputs": [],
   "source": []
  }
 ],
 "metadata": {
  "anaconda-cloud": {},
  "kernelspec": {
   "display_name": "Python 3",
   "language": "python",
   "name": "python3"
  },
  "language_info": {
   "codemirror_mode": {
    "name": "ipython",
    "version": 3
   },
   "file_extension": ".py",
   "mimetype": "text/x-python",
   "name": "python",
   "nbconvert_exporter": "python",
   "pygments_lexer": "ipython3",
   "version": "3.6.5"
  }
 },
 "nbformat": 4,
 "nbformat_minor": 1
}
